{
 "cells": [
  {
   "cell_type": "code",
   "execution_count": 1,
   "id": "c85907b8",
   "metadata": {},
   "outputs": [
    {
     "name": "stdout",
     "output_type": "stream",
     "text": [
      "Requirement already satisfied: pyttsx3 in c:\\users\\dayar\\appdata\\local\\programs\\python\\python311\\lib\\site-packages (2.90)Note: you may need to restart the kernel to use updated packages.\n",
      "\n",
      "Requirement already satisfied: comtypes in c:\\users\\dayar\\appdata\\local\\programs\\python\\python311\\lib\\site-packages (from pyttsx3) (1.2.0)\n",
      "Requirement already satisfied: pypiwin32 in c:\\users\\dayar\\appdata\\local\\programs\\python\\python311\\lib\\site-packages (from pyttsx3) (223)\n",
      "Requirement already satisfied: pywin32 in c:\\users\\dayar\\appdata\\local\\programs\\python\\python311\\lib\\site-packages (from pyttsx3) (306)\n"
     ]
    },
    {
     "name": "stderr",
     "output_type": "stream",
     "text": [
      "\n",
      "[notice] A new release of pip available: 22.3.1 -> 23.2.1\n",
      "[notice] To update, run: python.exe -m pip install --upgrade pip\n"
     ]
    }
   ],
   "source": [
    "pip install pyttsx3"
   ]
  },
  {
   "cell_type": "code",
   "execution_count": 2,
   "id": "39e3da8d",
   "metadata": {},
   "outputs": [
    {
     "name": "stdout",
     "output_type": "stream",
     "text": [
      "Requirement already satisfied: SpeechRecognition in c:\\users\\dayar\\appdata\\local\\programs\\python\\python311\\lib\\site-packages (3.10.0)\n",
      "Requirement already satisfied: requests>=2.26.0 in c:\\users\\dayar\\appdata\\local\\programs\\python\\python311\\lib\\site-packages (from SpeechRecognition) (2.31.0)\n",
      "Requirement already satisfied: charset-normalizer<4,>=2 in c:\\users\\dayar\\appdata\\local\\programs\\python\\python311\\lib\\site-packages (from requests>=2.26.0->SpeechRecognition) (3.2.0)\n",
      "Requirement already satisfied: idna<4,>=2.5 in c:\\users\\dayar\\appdata\\local\\programs\\python\\python311\\lib\\site-packages (from requests>=2.26.0->SpeechRecognition) (3.4)\n",
      "Requirement already satisfied: urllib3<3,>=1.21.1 in c:\\users\\dayar\\appdata\\local\\programs\\python\\python311\\lib\\site-packages (from requests>=2.26.0->SpeechRecognition) (2.0.3)\n",
      "Requirement already satisfied: certifi>=2017.4.17 in c:\\users\\dayar\\appdata\\local\\programs\\python\\python311\\lib\\site-packages (from requests>=2.26.0->SpeechRecognition) (2023.5.7)\n",
      "Note: you may need to restart the kernel to use updated packages.\n"
     ]
    },
    {
     "name": "stderr",
     "output_type": "stream",
     "text": [
      "\n",
      "[notice] A new release of pip available: 22.3.1 -> 23.2.1\n",
      "[notice] To update, run: python.exe -m pip install --upgrade pip\n"
     ]
    }
   ],
   "source": [
    "pip install SpeechRecognition"
   ]
  },
  {
   "cell_type": "code",
   "execution_count": 3,
   "id": "fba36945",
   "metadata": {},
   "outputs": [
    {
     "name": "stdout",
     "output_type": "stream",
     "text": [
      "Requirement already satisfied: pyaudio in c:\\users\\dayar\\appdata\\local\\programs\\python\\python311\\lib\\site-packages (0.2.13)\n",
      "Note: you may need to restart the kernel to use updated packages.\n"
     ]
    },
    {
     "name": "stderr",
     "output_type": "stream",
     "text": [
      "\n",
      "[notice] A new release of pip available: 22.3.1 -> 23.2.1\n",
      "[notice] To update, run: python.exe -m pip install --upgrade pip\n"
     ]
    }
   ],
   "source": [
    "pip install pyaudio"
   ]
  },
  {
   "cell_type": "code",
   "execution_count": 4,
   "id": "f7b07739",
   "metadata": {},
   "outputs": [],
   "source": [
    "import speech_recognition\n",
    "import pyttsx3"
   ]
  },
  {
   "cell_type": "code",
   "execution_count": 5,
   "id": "13440de2",
   "metadata": {},
   "outputs": [],
   "source": [
    "def speakNow(command):\n",
    "    voice = pyttsx3.init()\n",
    "    voice.say(command)\n",
    "    voice.runAndWait()"
   ]
  },
  {
   "cell_type": "code",
   "execution_count": 6,
   "id": "c2e89fce",
   "metadata": {},
   "outputs": [
    {
     "name": "stdout",
     "output_type": "stream",
     "text": [
      "Silence please\n",
      "Speak now please....\n",
      "Did you say :- how are you i'm good\n"
     ]
    }
   ],
   "source": [
    "sr = speech_recognition.Recognizer()\n",
    "\n",
    "with speech_recognition.Microphone() as source2:\n",
    "    \n",
    "    print(\"Silence please\")\n",
    "    \n",
    "    sr.adjust_for_ambient_noise(source2, duration = 2)\n",
    "    \n",
    "    print(\"Speak now please....\")\n",
    "    \n",
    "    audio2 = sr.listen(source2)\n",
    "    \n",
    "    text = sr.recognize_google(audio2)\n",
    "    text = text.lower()\n",
    "    \n",
    "    print(\"Did you say :- \" +text)\n",
    "    \n",
    "    speakNow(text)"
   ]
  }
 ],
 "metadata": {
  "kernelspec": {
   "display_name": "Python 3 (ipykernel)",
   "language": "python",
   "name": "python3"
  },
  "language_info": {
   "codemirror_mode": {
    "name": "ipython",
    "version": 3
   },
   "file_extension": ".py",
   "mimetype": "text/x-python",
   "name": "python",
   "nbconvert_exporter": "python",
   "pygments_lexer": "ipython3",
   "version": "3.11.3"
  }
 },
 "nbformat": 4,
 "nbformat_minor": 5
}
